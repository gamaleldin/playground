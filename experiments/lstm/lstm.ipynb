{
 "cells": [
  {
   "cell_type": "markdown",
   "metadata": {},
   "source": [
    "# RNNs for text generation experiment\n"
   ]
  },
  {
   "cell_type": "markdown",
   "metadata": {},
   "source": [
    "## Imports"
   ]
  },
  {
   "cell_type": "code",
   "execution_count": 1,
   "metadata": {},
   "outputs": [],
   "source": [
    "from __future__ import absolute_import\n",
    "from __future__ import division\n",
    "from __future__ import print_function\n",
    "\n",
    "import os\n",
    "import numpy as np\n",
    "import random\n",
    "import string\n",
    "import tensorflow as tf\n",
    "from six.moves import range\n",
    "import sys\n",
    "sys.path.append(\"/Users/gamal/git_local_repo/playground/utils\")\n",
    "import utils"
   ]
  },
  {
   "cell_type": "markdown",
   "metadata": {},
   "source": [
    "# Load data"
   ]
  },
  {
   "cell_type": "code",
   "execution_count": 12,
   "metadata": {},
   "outputs": [
    {
     "name": "stdout",
     "output_type": "stream",
     "text": [
      "Found and verified text8.zip\n",
      "number of characters: 100000000\n"
     ]
    }
   ],
   "source": [
    "url = 'http://mattmahoney.net/dc/'\n",
    "filename = utils.maybe_download(url,  \"text8.zip\", 31344016)\n",
    "text = utils.read_data(filename)\n",
    "print('number of characters: %d' % len(text))"
   ]
  },
  {
   "cell_type": "markdown",
   "metadata": {},
   "source": [
    "## split data to training and validation sets."
   ]
  },
  {
   "cell_type": "code",
   "execution_count": 33,
   "metadata": {},
   "outputs": [
    {
     "name": "stdout",
     "output_type": "stream",
     "text": [
      "training data size: 99995000 characters. \n",
      "   example:   of one eight four eight in france proudhon s philosophy of property is complex\n",
      "validation data size: 5000 characters. \n",
      "   example:   anarchism originated as a term of abuse first used against early working class\n"
     ]
    }
   ],
   "source": [
    "valid_size = 5000\n",
    "valid_text = text[:valid_size]\n",
    "train_text = text[valid_size:]\n",
    "train_size = len(train_text)\n",
    "print(\"training data size: %d characters. \\n   example: \"%train_size,\n",
    "      \" \".join(train_text[:80].split(\" \")[:-1]))\n",
    "print(\"validation data size: %d characters. \\n   example: \"%valid_size,\n",
    "      \" \".join(valid_text[:80].split(\" \")[:-1]))"
   ]
  },
  {
   "cell_type": "code",
   "execution_count": 116,
   "metadata": {},
   "outputs": [],
   "source": [
    "lowercase_chars = string.ascii_lowercase\n",
    "number_chars = [\"%d\" %i for i in range(10)]\n",
    "vocab_size = len(lowercase_chars)+len(number_chars)+3\n",
    "def char_encode(char):\n",
    "  \"\"\"function that encodes chars to ids.\"\"\"\n",
    "  # consider lower case characters, space and dot.\n",
    "  # [\"a\", .., \"z\"] ----> [1, ..., 26]\n",
    "  # [\"0\", .., \"9\"] ----> [27, ..., 36]\n",
    "  # \" \" ---> 37\n",
    "  # \".\" ---> 38\n",
    "  if char in lowercase_chars:\n",
    "    return ord(char.lower())-ord(\"a\")+1\n",
    "  elif char in number_chars:\n",
    "    return len(lowercase_chars)+int(char)+1\n",
    "  elif char is \" \":\n",
    "    return len(lowercase_chars)+len(number_chars)+1\n",
    "  elif char is \".\":\n",
    "    return len(lowercase_chars)+len(number_chars)+2\n",
    "  else:\n",
    "    # mapp all other chars and symbols to 0 id\n",
    "    return 0\n",
    "\n",
    "def char_decode(char_code):\n",
    "  \"\"\"function that decode from ids to chars.\"\"\"\n",
    "  # consider lower case characters, space and dot.\n",
    "  if char_code < 0 or char_code > vocab_size-1:\n",
    "    raise Exception(\"wrong character code\")\n",
    "  if char_code == 0:\n",
    "    return \"$\" # all unknown symbols are mapped to '$'\n",
    "  if char_code < len(lowercase_chars)+1:\n",
    "    return chr(char_code+ord(\"a\")-1)\n",
    "  elif char_code < len(lowercase_chars)+len(number_chars)+1:\n",
    "    return chr(char_code-len(lowercase_chars)+ord(\"0\")-1)\n",
    "  elif char_code < len(lowercase_chars)+len(number_chars)+2:\n",
    "    return \" \"\n",
    "  else:\n",
    "    return \".\"\n",
    "    "
   ]
  },
  {
   "cell_type": "code",
   "execution_count": 134,
   "metadata": {},
   "outputs": [
    {
     "name": "stdout",
     "output_type": "stream",
     "text": [
      "encode decode characters test pass\n"
     ]
    }
   ],
   "source": [
    "# test char_encode and char_decode\n",
    "if (\n",
    "  char_decode(char_encode(\"a\")) +\n",
    "  char_decode(char_encode(\"z\")) +\n",
    "  char_decode(char_encode(\"0\")) +\n",
    "  char_decode(char_encode(\"9\")) +\n",
    "  char_decode(char_encode(\" \")) +\n",
    "  char_decode(char_encode(\".\")) +\n",
    "  char_decode(char_encode(\"#\"))) == \"az09 .$\":\n",
    "  print(\"encode decode characters test pass\")\n",
    "else:\n",
    "  print(\"encode decode characters test fails\")"
   ]
  },
  {
   "cell_type": "markdown",
   "metadata": {},
   "source": [
    "## References\n",
    "deep learning course at Udacity"
   ]
  },
  {
   "cell_type": "code",
   "execution_count": null,
   "metadata": {},
   "outputs": [],
   "source": []
  },
  {
   "cell_type": "code",
   "execution_count": null,
   "metadata": {
    "collapsed": true
   },
   "outputs": [],
   "source": []
  }
 ],
 "metadata": {
  "kernelspec": {
   "display_name": "Python 2",
   "language": "python",
   "name": "python2"
  },
  "language_info": {
   "codemirror_mode": {
    "name": "ipython",
    "version": 2
   },
   "file_extension": ".py",
   "mimetype": "text/x-python",
   "name": "python",
   "nbconvert_exporter": "python",
   "pygments_lexer": "ipython2",
   "version": "2.7.13"
  }
 },
 "nbformat": 4,
 "nbformat_minor": 2
}
